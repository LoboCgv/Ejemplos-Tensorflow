{
 "cells": [
  {
   "cell_type": "code",
   "execution_count": 16,
   "metadata": {},
   "outputs": [
    {
     "name": "stdout",
     "output_type": "stream",
     "text": [
      "2018-10-23 13:44:02.449110\n"
     ]
    }
   ],
   "source": [
    "%matplotlib inline\n",
    "\n",
    "import numpy as np# libreria para el manejo de matrices y vectores\n",
    "import matplotlib.pyplot as plt #para graficar\n",
    "import math #librería matemática\n",
    "import cv2  #Manejo de imagenes usando opencv\n",
    "#para que funcione conda install opencv\n",
    "#from PIL import Image #libreria para bel manejo de imagenes tambien conocida como Pillow\n",
    "#pip install pillow o conda install pillow\n",
    "#anaconda en el ambiente root lo trae preparado\n",
    "import time# desde la raiz importamos la libreria\n",
    "import datetime\n",
    "#from tensorflow.keras.models import load_model\n",
    "#para instalar en anaconda tensorflow, las ultimas versiones vienen con el paquete sólo hay que habilitarlo en el ambiente\n",
    "import os\n",
    "print(datetime.datetime.now())"
   ]
  },
  {
   "cell_type": "code",
   "execution_count": 17,
   "metadata": {},
   "outputs": [],
   "source": [
    "#funciones globales\n",
    "def read_image(path):\n",
    "    imagen = cv2.imread(path)#path es la dirección absoluta o relativa según el sistema operativo\n",
    "    #imread carga la imagen en formato vector\n",
    "    imagen = cv2.cvtColor(imagen, cv2.COLOR_BGR2RGB)#convierte en escala de grises la foto.\n",
    "    #utiliza algo similar al algoritmo de Cammy\n",
    "    return imagen\n",
    "\n",
    "def plot_image(image, title=''):\n",
    "    fig = plt.figure(figsize = (8,8))#crea una figura, vector, 8,8\n",
    " #   print(fig.shape)\n",
    "    ax1 = fig.add_subplot(111)#crea una seccion de 1,1,1 en el plot\n",
    "    ax1.set_xticks([])#fijar las coordenadas del plot en 0.0\n",
    "    ax1.set_yticks([])\n",
    "\n",
    "    ax1.set_title(title)#fija en vacio el titulo del plot si no viene con parámetro\n",
    "    ax1.imshow(image)#muestra la imagen\n",
    "    \n",
    "def get_faces(image):\n",
    "    # la idea es recorrer la imagen encontrar patrones e identificar cuando y donde hay una cara\n",
    "    image_copy = np.copy(image)\n",
    "    \n",
    "    #vector con la escala de grises de la imagen\n",
    "    gray = cv2.cvtColor(image_copy, cv2.COLOR_RGB2GRAY)\n",
    "\n",
    "    #al existir un preentrenado modelo en un xml simplemente lo carga\n",
    "    face_classifier = cv2.CascadeClassifier('detectors/haarcascade_frontalface_default.xml')\n",
    "    \n",
    "    # Detect the faces in image\n",
    "    faces = face_classifier.detectMultiScale(gray, 1.2, 5)#busca en gray los patrones que están en face_classifier\n",
    "    \n",
    "    return faces #regresa un arreglo de caras\n",
    "\n",
    "def draw_faces(image, faces=None, plot=True):\n",
    "    if faces is None:\n",
    "        faces = get_faces(image)# en caso que no haya sido procesada la imagen se buscan las caras nuevamente\n",
    "    \n",
    "    image_with_faces = np.copy(image)\n",
    "    \n",
    "    for (x,y,w,h) in faces:\n",
    "        #tupla con cuatro coordenadas en el plano cartesiano\n",
    "        cv2.rectangle(image_with_faces, (x,y), (x+w,y+h), (255,0,0), 3)#dibuja un cuadrado rojo desde el punto x,y\n",
    "        \n",
    "    if plot is True:\n",
    "        plot_image(image_with_faces)\n",
    "    else:\n",
    "        return image_with_faces\n",
    "\n",
    "def plot_image_with_keypoints(image, image_info):\n",
    "   \n",
    "    fig = plt.figure(figsize = (8,8))\n",
    "    ax1 = fig.add_subplot(111)\n",
    "    \n",
    "    for (face, keypoints) in image_info:#busca la informacion en un diccionario y la pone en la foto\n",
    "        for (x,y) in keypoints:\n",
    "            ax1.scatter(x, y, marker='o', c='c', s=10)\n",
    "   \n",
    "\n",
    "    ax1.set_xticks([])\n",
    "    ax1.set_yticks([])\n",
    "    ax1.imshow(image)\n",
    "    # este metodo hay que probarlo bien\n"
   ]
  },
  {
   "cell_type": "code",
   "execution_count": 18,
   "metadata": {
    "scrolled": false
   },
   "outputs": [],
   "source": [
    "#para probar hasta aqui\n"
   ]
  },
  {
   "cell_type": "code",
   "execution_count": 24,
   "metadata": {},
   "outputs": [
    {
     "name": "stdout",
     "output_type": "stream",
     "text": [
      "1.jpg\n"
     ]
    },
    {
     "ename": "error",
     "evalue": "OpenCV(3.4.1) C:\\Miniconda3\\conda-bld\\opencv-suite_1533128839831\\work\\modules\\imgproc\\src\\color.cpp:11115: error: (-215) scn == 3 || scn == 4 in function cv::cvtColor\n",
     "output_type": "error",
     "traceback": [
      "\u001b[1;31m---------------------------------------------------------------------------\u001b[0m",
      "\u001b[1;31merror\u001b[0m                                     Traceback (most recent call last)",
      "\u001b[1;32m<ipython-input-24-1d5fe2567208>\u001b[0m in \u001b[0;36m<module>\u001b[1;34m()\u001b[0m\n\u001b[0;32m     18\u001b[0m             \u001b[0mactual\u001b[0m\u001b[1;33m=\u001b[0m\u001b[0mnombreFichero\u001b[0m\u001b[1;33m+\u001b[0m\u001b[1;34m\".jpg\"\u001b[0m\u001b[1;33m\u001b[0m\u001b[0m\n\u001b[0;32m     19\u001b[0m             \u001b[0mprint\u001b[0m\u001b[1;33m(\u001b[0m\u001b[0mactual\u001b[0m\u001b[1;33m)\u001b[0m\u001b[1;33m\u001b[0m\u001b[0m\n\u001b[1;32m---> 20\u001b[1;33m             \u001b[0mimage\u001b[0m \u001b[1;33m=\u001b[0m \u001b[0mread_image\u001b[0m\u001b[1;33m(\u001b[0m\u001b[0mactual\u001b[0m\u001b[1;33m)\u001b[0m\u001b[1;33m\u001b[0m\u001b[0m\n\u001b[0m\u001b[0;32m     21\u001b[0m             \u001b[0mfaces\u001b[0m \u001b[1;33m=\u001b[0m \u001b[0mget_faces\u001b[0m\u001b[1;33m(\u001b[0m\u001b[0mimage\u001b[0m\u001b[1;33m)\u001b[0m\u001b[1;33m\u001b[0m\u001b[0m\n\u001b[0;32m     22\u001b[0m             \u001b[0mprint\u001b[0m\u001b[1;33m(\u001b[0m\u001b[1;34m\"Faces detected: {}\"\u001b[0m\u001b[1;33m.\u001b[0m\u001b[0mformat\u001b[0m\u001b[1;33m(\u001b[0m\u001b[0mlen\u001b[0m\u001b[1;33m(\u001b[0m\u001b[0mfaces\u001b[0m\u001b[1;33m)\u001b[0m\u001b[1;33m)\u001b[0m\u001b[1;33m)\u001b[0m\u001b[1;33m\u001b[0m\u001b[0m\n",
      "\u001b[1;32m<ipython-input-17-547e6597dc0a>\u001b[0m in \u001b[0;36mread_image\u001b[1;34m(path)\u001b[0m\n\u001b[0;32m      3\u001b[0m     \u001b[0mimagen\u001b[0m \u001b[1;33m=\u001b[0m \u001b[0mcv2\u001b[0m\u001b[1;33m.\u001b[0m\u001b[0mimread\u001b[0m\u001b[1;33m(\u001b[0m\u001b[0mpath\u001b[0m\u001b[1;33m)\u001b[0m\u001b[1;31m#path es la dirección absoluta o relativa según el sistema operativo\u001b[0m\u001b[1;33m\u001b[0m\u001b[0m\n\u001b[0;32m      4\u001b[0m     \u001b[1;31m#imread carga la imagen en formato vector\u001b[0m\u001b[1;33m\u001b[0m\u001b[1;33m\u001b[0m\u001b[0m\n\u001b[1;32m----> 5\u001b[1;33m     \u001b[0mimagen\u001b[0m \u001b[1;33m=\u001b[0m \u001b[0mcv2\u001b[0m\u001b[1;33m.\u001b[0m\u001b[0mcvtColor\u001b[0m\u001b[1;33m(\u001b[0m\u001b[0mimagen\u001b[0m\u001b[1;33m,\u001b[0m \u001b[0mcv2\u001b[0m\u001b[1;33m.\u001b[0m\u001b[0mCOLOR_BGR2RGB\u001b[0m\u001b[1;33m)\u001b[0m\u001b[1;31m#convierte en escala de grises la foto.\u001b[0m\u001b[1;33m\u001b[0m\u001b[0m\n\u001b[0m\u001b[0;32m      6\u001b[0m     \u001b[1;31m#utiliza algo similar al algoritmo de Cammy\u001b[0m\u001b[1;33m\u001b[0m\u001b[1;33m\u001b[0m\u001b[0m\n\u001b[0;32m      7\u001b[0m     \u001b[1;32mreturn\u001b[0m \u001b[0mimagen\u001b[0m\u001b[1;33m\u001b[0m\u001b[0m\n",
      "\u001b[1;31merror\u001b[0m: OpenCV(3.4.1) C:\\Miniconda3\\conda-bld\\opencv-suite_1533128839831\\work\\modules\\imgproc\\src\\color.cpp:11115: error: (-215) scn == 3 || scn == 4 in function cv::cvtColor\n"
     ]
    }
   ],
   "source": [
    "\n",
    "#Variable para la ruta al directorio\n",
    "path = './DataEntrada/'\n",
    " \n",
    "#Lista vacia para incluir los ficheros\n",
    "lstFiles = []\n",
    " \n",
    "#Lista con todos los ficheros del directorio:\n",
    "lstDir = os.walk(path)   #os.walk()Lista directorios y ficheros\n",
    " \n",
    "#Crea una lista de los ficheros jpg que existen en el directorio y los incluye a la lista.\n",
    " \n",
    "for root, dirs, files in lstDir:\n",
    "    for fichero in files:\n",
    "        (nombreFichero, extension) = os.path.splitext(fichero)\n",
    "        if(extension == \".jpg\"):\n",
    "            lstFiles.append(nombreFichero+extension)\n",
    "            actual=nombreFichero+\".jpg\"\n",
    "            print(actual)\n",
    "            image = read_image(actual)\n",
    "            faces = get_faces(image)\n",
    "            print(\"Faces detected: {}\".format(len(faces)))\n",
    "            draw_faces(image, faces)\n",
    "            i=0\n",
    "            for(x,y,w,h) in faces:\n",
    "                crop_img = image[y:y+h, x:x+w]\n",
    "                cv2.imshow(\"cropped\", crop_img)\n",
    "                i=i+1\n",
    "                salida=\"entrenar/\"+nombreFichero+str(i)+\".jpg\"\n",
    "                cv2.imwrite(salida,crop_img)\n",
    "                cv2.waitKey(0)"
   ]
  },
  {
   "cell_type": "code",
   "execution_count": null,
   "metadata": {},
   "outputs": [],
   "source": []
  },
  {
   "cell_type": "code",
   "execution_count": null,
   "metadata": {},
   "outputs": [],
   "source": []
  }
 ],
 "metadata": {
  "kernelspec": {
   "display_name": "Python 3",
   "language": "python",
   "name": "python3"
  },
  "language_info": {
   "codemirror_mode": {
    "name": "ipython",
    "version": 3
   },
   "file_extension": ".py",
   "mimetype": "text/x-python",
   "name": "python",
   "nbconvert_exporter": "python",
   "pygments_lexer": "ipython3",
   "version": "3.7.0"
  }
 },
 "nbformat": 4,
 "nbformat_minor": 2
}
