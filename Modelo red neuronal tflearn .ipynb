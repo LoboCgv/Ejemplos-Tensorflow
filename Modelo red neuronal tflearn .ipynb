{
 "cells": [
  {
   "cell_type": "code",
   "execution_count": 4,
   "metadata": {},
   "outputs": [],
   "source": [
    "#primero instalar tflearn por consola\n",
    "#pip install tflearn\n",
    "#importar las librerias necesarias\n",
    "import numpy as np# en np estará el manejo de matrices\n",
    "import tensorflow as tf\n",
    "import tflearn \n",
    "import tflearn.datasets.mnist as mnist#libreria de los numeros el dataset"
   ]
  },
  {
   "cell_type": "code",
   "execution_count": 6,
   "metadata": {},
   "outputs": [
    {
     "name": "stdout",
     "output_type": "stream",
     "text": [
      "Downloading MNIST...\n",
      "Succesfully downloaded train-images-idx3-ubyte.gz 9912422 bytes.\n",
      "Extracting mnist/train-images-idx3-ubyte.gz\n",
      "Downloading MNIST...\n",
      "Succesfully downloaded train-labels-idx1-ubyte.gz 28881 bytes.\n",
      "Extracting mnist/train-labels-idx1-ubyte.gz\n",
      "Downloading MNIST...\n",
      "Succesfully downloaded t10k-images-idx3-ubyte.gz 1648877 bytes.\n",
      "Extracting mnist/t10k-images-idx3-ubyte.gz\n",
      "Downloading MNIST...\n",
      "Succesfully downloaded t10k-labels-idx1-ubyte.gz 4542 bytes.\n",
      "Extracting mnist/t10k-labels-idx1-ubyte.gz\n"
     ]
    }
   ],
   "source": [
    "trainX,trainY,testX,testY=mnist.load_data(one_hot=True)\n",
    "#trainX etiquetas, trainY clasificaciones,testX etiquetas de prueba, testY clasificaciones de prueba \n",
    "#mnist.load_data carga los datos\n",
    "#los datos son imagenes de 28X28 en escala de grises"
   ]
  },
  {
   "cell_type": "code",
   "execution_count": 7,
   "metadata": {},
   "outputs": [],
   "source": [
    "entradas=784# 28x28\n",
    "capa1=128#capas ocultas\n",
    "capa2=128#las capas varian de problema a problema\n",
    "clases=10#cantidad de resultados"
   ]
  },
  {
   "cell_type": "code",
   "execution_count": 9,
   "metadata": {},
   "outputs": [],
   "source": [
    "def crearModelo():\n",
    "    tf.reset_default_graph()#elimina cualquier data que este en memoria\n",
    "    red=tflearn.input_data([None,entradas])#red es la estructura\n",
    "    #matriz de cada reglon de 128 entradas, none es para enviar por lotes pro no se define de inmediato la cantidadde lotes\n",
    "    red=tflearn.fully_connected(red,capa1,activation=\"RelU\")#fully_connected se conecta con toda la siguiente capa, RelU es la activacion\n",
    "    red=tflearn.fully_connected(red,capa2,activation=\"RelU\")#se contruye sobre la red\n",
    "    red=tflearn.fully_connected(red,clases,activation=\"softmax\")#se agrega la capa de salida, pero la activacion es softmax, se usa normalmente en problemas de clasificacion\n",
    "    #que tan probable es que una entrada especifica corresponda a alguna de las 10 clases, 0-9\n",
    "    red=tflearn.regression(red,optimizer='sgd',learning_rate=0.01,loss='categorical_crossentropy')\n",
    "    #optimizer es gradient desendiente stocastica, tasa de aprendizaje, al principio es pequeño por si es muy lento, la perdida es entropia cruzada\n",
    "    modelo=tflearn.DNN(red)#alimenta la red deep neural network\n",
    "    return modelo"
   ]
  },
  {
   "cell_type": "markdown",
   "metadata": {},
   "source": [
    "modelo=crearModelo()"
   ]
  },
  {
   "cell_type": "code",
   "execution_count": 11,
   "metadata": {},
   "outputs": [
    {
     "name": "stdout",
     "output_type": "stream",
     "text": [
      "Training Step: 9899  | total loss: \u001b[1m\u001b[32m0.28872\u001b[0m\u001b[0m | time: 8.354s\n",
      "| SGD | epoch: 100 | loss: 0.28872 - acc: 0.9163 -- iter: 49000/49500\n",
      "Training Step: 9900  | total loss: \u001b[1m\u001b[32m0.28872\u001b[0m\u001b[0m | time: 9.477s\n",
      "| SGD | epoch: 100 | loss: 0.28872 - acc: 0.9161 | val_loss: 0.27999 - val_acc: 0.9175 -- iter: 49500/49500\n",
      "--\n"
     ]
    }
   ],
   "source": [
    "modelo=crearModelo()\n",
    "modelo.fit(trainX,trainY,validation_set=0.1,show_metric=True,batch_size=500,n_epoch=100)#entrenamiento\n",
    "#trainX caracteristicas\n",
    "#trinY clases\n",
    "#validacion tomara el 10% de lo que tenemos\n",
    "#batch es la cantidad de imagenes por epoca\n",
    "#epoca es el barrido de datos\n",
    "#idea es disminuir el loss y aumentar accuracy"
   ]
  },
  {
   "cell_type": "code",
   "execution_count": 13,
   "metadata": {},
   "outputs": [
    {
     "name": "stdout",
     "output_type": "stream",
     "text": [
      "la certeza es:  0.9201\n"
     ]
    }
   ],
   "source": [
    "predicciones=np.array(modelo.predict(testX)).argmax(axis=1)#obtiene los valores esperados\n",
    "correctas=testY.argmax(axis=1)#respuestas correctas\n",
    "certeza=np.mean(predicciones==correctas,axis=0)#compara los arreglos\n",
    "print(\"la certeza es: \",certeza)"
   ]
  },
  {
   "cell_type": "code",
   "execution_count": null,
   "metadata": {},
   "outputs": [],
   "source": []
  }
 ],
 "metadata": {
  "kernelspec": {
   "display_name": "Python 3",
   "language": "python",
   "name": "python3"
  },
  "language_info": {
   "codemirror_mode": {
    "name": "ipython",
    "version": 3
   },
   "file_extension": ".py",
   "mimetype": "text/x-python",
   "name": "python",
   "nbconvert_exporter": "python",
   "pygments_lexer": "ipython3",
   "version": "3.6.5"
  }
 },
 "nbformat": 4,
 "nbformat_minor": 2
}
