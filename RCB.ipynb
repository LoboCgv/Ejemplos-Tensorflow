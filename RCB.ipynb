{
 "cells": [
  {
   "cell_type": "code",
   "execution_count": 1,
   "metadata": {},
   "outputs": [],
   "source": [
    "import pyzbar.pyzbar as pyzbar\n",
    "import numpy as np\n",
    "import cv2"
   ]
  },
  {
   "cell_type": "code",
   "execution_count": 2,
   "metadata": {},
   "outputs": [],
   "source": [
    "def tifrbar(tifname, txtname):    \n",
    "    try:\n",
    "        # carga imagen\n",
    "        tifimg = cv2.imread(tifname)\n",
    "        # carga códigos de barras de la imagen en lista\n",
    "        lstbc = pyzbar.decode(tifimg)\n",
    "        # recorre objetos encontrados\n",
    "        fptxt = open(txtname, 'w')    \n",
    "        for bc in lstbc: \n",
    "            npoint = bc.polygon\n",
    "            # estamos buscando un area rectangular, si hay más de 4 puntos intenta una aproximación\n",
    "            if len(npoint) > 4 : \n",
    "              hull = cv2.convexHull(np.array([point for point in npoint], dtype=np.float32))\n",
    "              hull = list(map(tuple, np.squeeze(hull)))\n",
    "            else : \n",
    "              hull = npoint\n",
    "            n = len(hull)\n",
    "            if (n>0):\n",
    "                # código válido\n",
    "                slinea=\"%s|%s\\n\" % (bc.data, bc.type)\n",
    "                print(slinea)\n",
    "                fptxt.write(slinea)\n",
    "        fptxt.closed\n",
    "        return True\n",
    "    except:\n",
    "        # si hay algún error...\n",
    "        print(\"ERROR de lectura, tifrbar\")\n",
    "    return False"
   ]
  },
  {
   "cell_type": "code",
   "execution_count": 13,
   "metadata": {},
   "outputs": [
    {
     "name": "stdout",
     "output_type": "stream",
     "text": [
      "b'8412345678905'\n"
     ]
    }
   ],
   "source": [
    "#!/usr/bin/env python3\n",
    "\"\"\"Writes bounding_box_and_polygon.png that illustrates\n",
    "\"\"\"\n",
    "from PIL import Image, ImageDraw\n",
    "\n",
    "from pyzbar.pyzbar import decode\n",
    "\n",
    "\n",
    "image = Image.open('./data/entrenamiento/16.jpg').convert('RGB')\n",
    "draw = ImageDraw.Draw(image)\n",
    "for barcode in decode(image):\n",
    "    rect = barcode.rect\n",
    "    draw.rectangle(\n",
    "        (\n",
    "            (rect.left, rect.top),\n",
    "            (rect.left + rect.width, rect.top + rect.height)\n",
    "        ),\n",
    "        outline='#0080ff'\n",
    "    )\n",
    "    print(barcode[0])\n",
    "\n",
    "    #draw.polygon(barcode.polygon, outline='#e945ff')\n"
   ]
  },
  {
   "cell_type": "code",
   "execution_count": null,
   "metadata": {},
   "outputs": [],
   "source": []
  }
 ],
 "metadata": {
  "kernelspec": {
   "display_name": "Python 3",
   "language": "python",
   "name": "python3"
  },
  "language_info": {
   "codemirror_mode": {
    "name": "ipython",
    "version": 3
   },
   "file_extension": ".py",
   "mimetype": "text/x-python",
   "name": "python",
   "nbconvert_exporter": "python",
   "pygments_lexer": "ipython3",
   "version": "3.6.6"
  }
 },
 "nbformat": 4,
 "nbformat_minor": 2
}
